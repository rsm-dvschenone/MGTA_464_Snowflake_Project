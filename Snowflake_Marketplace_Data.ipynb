{
 "cells": [
  {
   "cell_type": "code",
   "execution_count": 2,
   "id": "eeb5bc15",
   "metadata": {},
   "outputs": [],
   "source": [
    "import snowflake.connector"
   ]
  },
  {
   "cell_type": "code",
   "execution_count": 3,
   "id": "3d522fda",
   "metadata": {},
   "outputs": [],
   "source": [
    "#conn is the object that connects you to your Snowflake account\n",
    "conn = snowflake.connector.connect(\n",
    "user='eoriley169',\n",
    "password='2YzrtnhWKL6r5dT',\n",
    "account='afaypkh-rjb48354'\n",
    ")"
   ]
  },
  {
   "cell_type": "code",
   "execution_count": 4,
   "id": "47d6aa98",
   "metadata": {},
   "outputs": [],
   "source": [
    "#cs is a database cursor object for execute and fetch operations\n",
    "cs = conn.cursor()"
   ]
  },
  {
   "cell_type": "code",
   "execution_count": 7,
   "id": "7852ceef",
   "metadata": {},
   "outputs": [
    {
     "data": {
      "text/plain": [
       "<snowflake.connector.cursor.SnowflakeCursor at 0x7ff361a61d90>"
      ]
     },
     "execution_count": 7,
     "metadata": {},
     "output_type": "execute_result"
    }
   ],
   "source": [
    "## Create Snowflake Objects\n",
    "cs.execute(\"CREATE WAREHOUSE IF NOT EXISTS my_first_warehouse\")"
   ]
  },
  {
   "cell_type": "code",
   "execution_count": 8,
   "id": "c2ad55fd",
   "metadata": {},
   "outputs": [
    {
     "data": {
      "text/plain": [
       "<snowflake.connector.cursor.SnowflakeCursor at 0x7ff361a61d90>"
      ]
     },
     "execution_count": 8,
     "metadata": {},
     "output_type": "execute_result"
    }
   ],
   "source": [
    "#Create a database\n",
    "cs.execute(\"CREATE DATABASE IF NOT EXISTS testdb\")"
   ]
  },
  {
   "cell_type": "code",
   "execution_count": 9,
   "id": "38ada213",
   "metadata": {},
   "outputs": [
    {
     "data": {
      "text/plain": [
       "<snowflake.connector.cursor.SnowflakeCursor at 0x7ff361a61d90>"
      ]
     },
     "execution_count": 9,
     "metadata": {},
     "output_type": "execute_result"
    }
   ],
   "source": [
    "#Create a schema\n",
    "cs.execute(\"CREATE SCHEMA IF NOT EXISTS testschema\")"
   ]
  },
  {
   "cell_type": "code",
   "execution_count": 10,
   "id": "4c63108c",
   "metadata": {},
   "outputs": [
    {
     "data": {
      "text/plain": [
       "<snowflake.connector.cursor.SnowflakeCursor at 0x7ff361a61d90>"
      ]
     },
     "execution_count": 10,
     "metadata": {},
     "output_type": "execute_result"
    }
   ],
   "source": [
    "#Next create a table and insert data (this is regular DDL and DML):\n",
    "cs.execute(\n",
    "\"CREATE OR REPLACE TABLE \"\n",
    "\"test_table(col1 integer, col2 string)\")\n",
    "cs.execute(\n",
    "\"INSERT INTO test_table(col1, col2) \"\n",
    "\"VALUES (123, 'test string1'), (456, 'test string2')\")"
   ]
  },
  {
   "cell_type": "code",
   "execution_count": 12,
   "id": "a41be880",
   "metadata": {},
   "outputs": [
    {
     "name": "stdout",
     "output_type": "stream",
     "text": [
      "[(123, 'test string1'), (456, 'test string2')]\n"
     ]
    }
   ],
   "source": [
    "#run a SELECT query and view the result\n",
    "cs.execute('SELECT * FROM test_table')\n",
    "print(cs.fetchmany(2))"
   ]
  },
  {
   "cell_type": "code",
   "execution_count": 5,
   "id": "257d95a9",
   "metadata": {},
   "outputs": [
    {
     "name": "stdout",
     "output_type": "stream",
     "text": [
      "\n",
      "=== WEATHER__ENVIRONMENT.CYBERSYN.NOAA_WEATHER_METRICS_TIMESERIES ===\n",
      "Columns: NOAA_WEATHER_STATION_ID, VARIABLE, VARIABLE_NAME, DATE, DATETIME, VALUE, UNIT\n",
      " 1: ('USR0000CBAI', 'maximum_temperature_represents_highest_or_lowest_hourly_temperature_or_the_average_of_hourly_values', 'Maximum Temperature (Represents Highest or Lowest Hourly Temperature or the Average of Hourly Values)', datetime.date(2005, 7, 3), datetime.datetime(2005, 7, 3, 0, 0), Decimal('25.000000'), 'Degrees Celsius')\n",
      " 2: ('SWM00002584', 'precipitation', 'Precipitation', datetime.date(2003, 11, 23), datetime.datetime(2003, 11, 23, 0, 0), Decimal('13.100000'), 'Millimeters')\n",
      " 3: ('RMW00040604', 'weather_type_rain_may_include_freezing_rain_drizzle_and_freezing_drizzle', 'Weather Type: Rain (may include freezing rain, drizzle, and freezing drizzle)', datetime.date(2005, 8, 25), datetime.datetime(2005, 8, 25, 0, 0), Decimal('1.000000'), 'Boolean')\n",
      " 4: ('USW00026501', 'average_wind_speed', 'Average Wind Speed', datetime.date(2018, 11, 4), datetime.datetime(2018, 11, 4, 0, 0), Decimal('0.500000'), 'Meters per second')\n",
      " 5: ('USW00093729', 'minimum_temperature', 'Minimum Temperature', datetime.date(2022, 5, 23), datetime.datetime(2022, 5, 23, 23, 59), Decimal('20.600000'), 'Degrees Celsius')\n",
      "Total rows: 952373494\n",
      "\n",
      "=== WEATHER__ENVIRONMENT.CYBERSYN.NOAA_WEATHER_STATION_INDEX ===\n",
      "Columns: NOAA_WEATHER_STATION_ID, NOAA_WEATHER_STATION_NAME, COUNTRY_GEO_ID, COUNTRY_NAME, STATE_GEO_ID, STATE_NAME, ZIP_GEO_ID, ZIP_NAME, LATITUDE, LONGITUDE, ELEVATION, WEATHER_STATION_NETWORK, ASSOCIATED_NETWORKS, WORLD_METEOROLOGICAL_ORGANIZATION_ID, SOURCE_DATA\n",
      " 1: ('CA007042395', 'FORET MONTMORENCY RCS', 'country/CAN', 'Canada', 'wikidataId/Q176', 'Quebec', None, None, 47.3167, -71.15, 673.0, 'Unspecified', None, '71212', '[\\n  \"Environment Canada\",\\n  \"Global Summary of the Day (NCDC DSI-9618)\"\\n]')\n",
      " 2: ('CA007054096', 'LA POCATIERE', 'country/CAN', 'Canada', 'wikidataId/Q176', 'Quebec', None, None, 47.35, -70.0333, 31.0, 'Unspecified', '[\\n  \"GSN\"\\n]', '71713', '[\\n  \"Global Summary of the Day (NCDC DSI-9618)\",\\n  \"Environment Canada\"\\n]')\n",
      " 3: ('RSM00023412', 'UST-USA', 'country/RUS', 'Russia', None, None, None, None, 65.97, 56.9194, 77.0, 'World Meteorological Organization ID', None, '23412', '[\\n  \"All-Russian Research Institute of Hydrometeorological Information-World Data Center\",\\n  \"Global Summary of the Day (NCDC DSI-9618)\",\\n  \"European Climate Assessment and Dataset (Klein Tank et al., 2002)\"\\n]')\n",
      " 4: ('RSM00027665', 'LUKOJANOV', 'country/RUS', 'Russia', None, None, None, None, 55.0, 44.5, 219.0, 'World Meteorological Organization ID', None, '27665', '[\\n  \"Global Summary of the Day (NCDC DSI-9618)\",\\n  \"European Climate Assessment and Dataset (Klein Tank et al., 2002)\",\\n  \"All-Russian Research Institute of Hydrometeorological Information-World Data Center\"\\n]')\n",
      " 5: ('RSM00031137', 'TOKO', 'country/RUS', 'Russia', None, None, None, None, 56.28, 131.13, 849.0, 'World Meteorological Organization ID', None, '31137', '[\\n  \"All-Russian Research Institute of Hydrometeorological Information-World Data Center\",\\n  \"Global Summary of the Day (NCDC DSI-9618)\",\\n  \"European Climate Assessment and Dataset (Klein Tank et al., 2002)\"\\n]')\n",
      "Total rows: 87377\n"
     ]
    }
   ],
   "source": [
    "# --- Add this to ETL_Snowflake.py (after your existing connection code) ---\n",
    "\n",
    "import snowflake.connector\n",
    "\n",
    "def use_first_existing_db(cs, candidate_names):\n",
    "    \"\"\"\n",
    "    Try each candidate database name; return the first one that exists.\n",
    "    Falls back to SHOW DATABASES LIKE 'WEATHER%ENVIRONMENT%' if none match exactly.\n",
    "    \"\"\"\n",
    "    # Try exact names first\n",
    "    for db in candidate_names:\n",
    "        cs.execute(f\"SHOW DATABASES LIKE '{db}'\")\n",
    "        if cs.fetchone():\n",
    "            return db\n",
    "\n",
    "    # Broad match as a fallback (handles custom naming)\n",
    "    cs.execute(\"SHOW DATABASES LIKE 'WEATHER%ENVIRONMENT%'\")\n",
    "    row = cs.fetchone()\n",
    "    if row:\n",
    "        # SHOW DATABASES returns tuples; the 2nd field is the database NAME\n",
    "        # Typical order: created_on, name, is_default, ...\n",
    "        return row[1]\n",
    "\n",
    "    raise RuntimeError(\n",
    "        \"Could not find a WEATHER...ENVIRONMENT database. \"\n",
    "        \"Verify the Snowflake Marketplace subscription/name in the web UI.\"\n",
    "    )\n",
    "\n",
    "def print_table_sample(cs, fully_qualified_table, sample_rows=5):\n",
    "    \"\"\"\n",
    "    Print column names, a small sample, and total row count for the given table.\n",
    "    \"\"\"\n",
    "    print(f\"\\n=== {fully_qualified_table} ===\")\n",
    "\n",
    "    # Sample rows\n",
    "    cs.execute(f\"SELECT * FROM {fully_qualified_table} LIMIT {sample_rows}\")\n",
    "    rows = cs.fetchall()\n",
    "    col_names = [desc[0] for desc in cs.description]\n",
    "    print(\"Columns:\", \", \".join(col_names))\n",
    "    for i, r in enumerate(rows, 1):\n",
    "        print(f\"{i:>2}: {r}\")\n",
    "\n",
    "    # Row count (fast metadata-style count is not available; run COUNT(*))\n",
    "    cs.execute(f\"SELECT COUNT(*) FROM {fully_qualified_table}\")\n",
    "    total = cs.fetchone()[0]\n",
    "    print(f\"Total rows: {total}\")\n",
    "\n",
    "def print_cybersyn_weather_tables(conn, warehouse=\"MY_FIRST_WAREHOUSE\"):\n",
    "    \"\"\"\n",
    "    Uses only the Snowflake Python connector to:\n",
    "    - set the warehouse,\n",
    "    - locate the Marketplace database,\n",
    "    - switch to CYBERSYN schema,\n",
    "    - and print samples + counts from the two NOAA tables.\n",
    "    \"\"\"\n",
    "    with conn.cursor() as cs:\n",
    "        # Ensure a warehouse is set (you created MY_FIRST_WAREHOUSE earlier in your file)\n",
    "        cs.execute(f\"USE WAREHOUSE {warehouse}\")\n",
    "\n",
    "        # Part 2, step 7 database names: assignment shows WEATHER__ENVIRONMENT (double underscore),\n",
    "        # but some accounts show WEATHER_ENVIRONMENT (single underscore).\n",
    "        candidate_dbs = [\"WEATHER__ENVIRONMENT\", \"WEATHER_ENVIRONMENT\"]\n",
    "        db_name = use_first_existing_db(cs, candidate_dbs)\n",
    "        cs.execute(f\"USE DATABASE {db_name}\")\n",
    "\n",
    "        # Schema from the brief is CYBERSYN\n",
    "        cs.execute(\"USE SCHEMA CYBERSYN\")\n",
    "\n",
    "        # Fully qualified table names (no quotes needed since identifiers are simple/upper)\n",
    "        tables = [\n",
    "            \"NOAA_WEATHER_METRICS_TIMESERIES\",\n",
    "            \"NOAA_WEATHER_STATION_INDEX\",\n",
    "        ]\n",
    "        for t in tables:\n",
    "            fqtn = f\"{db_name}.CYBERSYN.{t}\"\n",
    "            print_table_sample(cs, fqtn, sample_rows=5)\n",
    "\n",
    "# --- Run it ---\n",
    "if __name__ == \"__main__\":\n",
    "    # Reuse your existing `conn` from above in ETL_Snowflake.py\n",
    "    # Example assumes you already did:\n",
    "    # conn = snowflake.connector.connect(user=..., password=..., account=...)\n",
    "    try:\n",
    "        print_cybersyn_weather_tables(conn, warehouse=\"MY_FIRST_WAREHOUSE\")\n",
    "    finally:\n",
    "        try:\n",
    "            conn.close()\n",
    "        except Exception:\n",
    "            pass\n"
   ]
  }
 ],
 "metadata": {
  "kernelspec": {
   "display_name": "mgta464-projectcode",
   "language": "python",
   "name": "python3"
  },
  "language_info": {
   "codemirror_mode": {
    "name": "ipython",
    "version": 3
   },
   "file_extension": ".py",
   "mimetype": "text/x-python",
   "name": "python",
   "nbconvert_exporter": "python",
   "pygments_lexer": "ipython3",
   "version": "3.12.11"
  }
 },
 "nbformat": 4,
 "nbformat_minor": 5
}
