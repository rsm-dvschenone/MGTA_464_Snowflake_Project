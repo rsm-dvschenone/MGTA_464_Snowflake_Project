{
 "cells": [
  {
   "cell_type": "code",
   "execution_count": 5,
   "metadata": {},
   "outputs": [],
   "source": [
    "import snowflake.connector\n"
   ]
  },
  {
   "cell_type": "code",
   "execution_count": 7,
   "metadata": {},
   "outputs": [
    {
     "name": "stdout",
     "output_type": "stream",
     "text": [
      "Requirement already satisfied: python-dotenv in /opt/conda/lib/python3.12/site-packages (1.0.1)\n",
      "Note: you may need to restart the kernel to use updated packages.\n"
     ]
    }
   ],
   "source": [
    "pip install python-dotenv\n"
   ]
  },
  {
   "cell_type": "code",
   "execution_count": null,
   "metadata": {},
   "outputs": [],
   "source": [
    "from dotenv import load_dotenv\n",
    "import os\n",
    "\n",
    "# Load .env from the project root\n",
    "load_dotenv()\n",
    "\n",
    "SNOWFLAKE_USER = os.getenv(\"SNOWFLAKE_USER\")\n",
    "SNOWFLAKE_PASSWORD = os.getenv(\"SNOWFLAKE_PASSWORD\")\n",
    "SNOWFLAKE_ACCOUNT = os.getenv(\"SNOWFLAKE_ACCOUNT\")"
   ]
  },
  {
   "cell_type": "code",
   "execution_count": null,
   "metadata": {},
   "outputs": [
    {
     "ename": "DatabaseError",
     "evalue": "250001 (08001): Failed to connect to DB: qbmhuza-bnb86629.snowflakecomputing.com:443. Your user account has been temporarily locked. Try again later or contact your account administrator for assistance. For more information about this error, go to https://community.snowflake.com/s/error-your-user-login-has-been-locked.",
     "output_type": "error",
     "traceback": [
      "\u001b[0;31m---------------------------------------------------------------------------\u001b[0m",
      "\u001b[0;31mDatabaseError\u001b[0m                             Traceback (most recent call last)",
      "Cell \u001b[0;32mIn[6], line 1\u001b[0m\n\u001b[0;32m----> 1\u001b[0m conn \u001b[38;5;241m=\u001b[39m \u001b[43msnowflake\u001b[49m\u001b[38;5;241;43m.\u001b[39;49m\u001b[43mconnector\u001b[49m\u001b[38;5;241;43m.\u001b[39;49m\u001b[43mconnect\u001b[49m\u001b[43m(\u001b[49m\n\u001b[1;32m      2\u001b[0m \u001b[43m    \u001b[49m\u001b[43muser\u001b[49m\u001b[38;5;241;43m=\u001b[39;49m\u001b[38;5;124;43m'\u001b[39;49m\u001b[38;5;124;43msecond2\u001b[39;49m\u001b[38;5;124;43m'\u001b[39;49m\u001b[43m,\u001b[49m\n\u001b[1;32m      3\u001b[0m \u001b[43m    \u001b[49m\u001b[43mpassword\u001b[49m\u001b[38;5;241;43m=\u001b[39;49m\u001b[38;5;124;43m'\u001b[39;49m\u001b[38;5;124;43mgyczeg6kaHqywownor\u001b[39;49m\u001b[38;5;124;43m'\u001b[39;49m\u001b[43m,\u001b[49m\n\u001b[1;32m      4\u001b[0m \u001b[43m    \u001b[49m\u001b[43maccount\u001b[49m\u001b[38;5;241;43m=\u001b[39;49m\u001b[38;5;124;43m'\u001b[39;49m\u001b[38;5;124;43mqbmhuza-bnb86629\u001b[39;49m\u001b[38;5;124;43m'\u001b[39;49m\n\u001b[1;32m      5\u001b[0m \u001b[43m)\u001b[49m\n",
      "File \u001b[0;32m/opt/conda/lib/python3.12/site-packages/snowflake/connector/__init__.py:54\u001b[0m, in \u001b[0;36mConnect\u001b[0;34m(**kwargs)\u001b[0m\n\u001b[1;32m     52\u001b[0m \u001b[38;5;129m@wraps\u001b[39m(SnowflakeConnection\u001b[38;5;241m.\u001b[39m\u001b[38;5;21m__init__\u001b[39m)\n\u001b[1;32m     53\u001b[0m \u001b[38;5;28;01mdef\u001b[39;00m \u001b[38;5;21mConnect\u001b[39m(\u001b[38;5;241m*\u001b[39m\u001b[38;5;241m*\u001b[39mkwargs) \u001b[38;5;241m-\u001b[39m\u001b[38;5;241m>\u001b[39m SnowflakeConnection:\n\u001b[0;32m---> 54\u001b[0m     \u001b[38;5;28;01mreturn\u001b[39;00m \u001b[43mSnowflakeConnection\u001b[49m\u001b[43m(\u001b[49m\u001b[38;5;241;43m*\u001b[39;49m\u001b[38;5;241;43m*\u001b[39;49m\u001b[43mkwargs\u001b[49m\u001b[43m)\u001b[49m\n",
      "File \u001b[0;32m/opt/conda/lib/python3.12/site-packages/snowflake/connector/connection.py:588\u001b[0m, in \u001b[0;36mSnowflakeConnection.__init__\u001b[0;34m(self, connection_name, connections_file_path, **kwargs)\u001b[0m\n\u001b[1;32m    586\u001b[0m     kwargs \u001b[38;5;241m=\u001b[39m _get_default_connection_params()\n\u001b[1;32m    587\u001b[0m \u001b[38;5;28mself\u001b[39m\u001b[38;5;241m.\u001b[39m__set_error_attributes()\n\u001b[0;32m--> 588\u001b[0m \u001b[38;5;28;43mself\u001b[39;49m\u001b[38;5;241;43m.\u001b[39;49m\u001b[43mconnect\u001b[49m\u001b[43m(\u001b[49m\u001b[38;5;241;43m*\u001b[39;49m\u001b[38;5;241;43m*\u001b[39;49m\u001b[43mkwargs\u001b[49m\u001b[43m)\u001b[49m\n\u001b[1;32m    589\u001b[0m \u001b[38;5;28mself\u001b[39m\u001b[38;5;241m.\u001b[39m_telemetry \u001b[38;5;241m=\u001b[39m TelemetryClient(\u001b[38;5;28mself\u001b[39m\u001b[38;5;241m.\u001b[39m_rest)\n\u001b[1;32m    590\u001b[0m \u001b[38;5;28mself\u001b[39m\u001b[38;5;241m.\u001b[39mexpired \u001b[38;5;241m=\u001b[39m \u001b[38;5;28;01mFalse\u001b[39;00m\n",
      "File \u001b[0;32m/opt/conda/lib/python3.12/site-packages/snowflake/connector/connection.py:972\u001b[0m, in \u001b[0;36mSnowflakeConnection.connect\u001b[0;34m(self, **kwargs)\u001b[0m\n\u001b[1;32m    970\u001b[0m             \u001b[38;5;28;01mraise\u001b[39;00m \u001b[38;5;167;01mException\u001b[39;00m(\u001b[38;5;28mstr\u001b[39m(exceptions_dict))\n\u001b[1;32m    971\u001b[0m \u001b[38;5;28;01melse\u001b[39;00m:\n\u001b[0;32m--> 972\u001b[0m     \u001b[38;5;28;43mself\u001b[39;49m\u001b[38;5;241;43m.\u001b[39;49m\u001b[43m__open_connection\u001b[49m\u001b[43m(\u001b[49m\u001b[43m)\u001b[49m\n",
      "File \u001b[0;32m/opt/conda/lib/python3.12/site-packages/snowflake/connector/connection.py:1371\u001b[0m, in \u001b[0;36mSnowflakeConnection.__open_connection\u001b[0;34m(self)\u001b[0m\n\u001b[1;32m   1363\u001b[0m \u001b[38;5;28;01melse\u001b[39;00m:\n\u001b[1;32m   1364\u001b[0m     \u001b[38;5;66;03m# okta URL, e.g., https://<account>.okta.com/\u001b[39;00m\n\u001b[1;32m   1365\u001b[0m     \u001b[38;5;28mself\u001b[39m\u001b[38;5;241m.\u001b[39mauth_class \u001b[38;5;241m=\u001b[39m AuthByOkta(\n\u001b[1;32m   1366\u001b[0m         application\u001b[38;5;241m=\u001b[39m\u001b[38;5;28mself\u001b[39m\u001b[38;5;241m.\u001b[39mapplication,\n\u001b[1;32m   1367\u001b[0m         timeout\u001b[38;5;241m=\u001b[39m\u001b[38;5;28mself\u001b[39m\u001b[38;5;241m.\u001b[39mlogin_timeout,\n\u001b[1;32m   1368\u001b[0m         backoff_generator\u001b[38;5;241m=\u001b[39m\u001b[38;5;28mself\u001b[39m\u001b[38;5;241m.\u001b[39m_backoff_generator,\n\u001b[1;32m   1369\u001b[0m     )\n\u001b[0;32m-> 1371\u001b[0m \u001b[38;5;28;43mself\u001b[39;49m\u001b[38;5;241;43m.\u001b[39;49m\u001b[43mauthenticate_with_retry\u001b[49m\u001b[43m(\u001b[49m\u001b[38;5;28;43mself\u001b[39;49m\u001b[38;5;241;43m.\u001b[39;49m\u001b[43mauth_class\u001b[49m\u001b[43m)\u001b[49m\n\u001b[1;32m   1373\u001b[0m \u001b[38;5;28mself\u001b[39m\u001b[38;5;241m.\u001b[39m_password \u001b[38;5;241m=\u001b[39m \u001b[38;5;28;01mNone\u001b[39;00m  \u001b[38;5;66;03m# ensure password won't persist\u001b[39;00m\n\u001b[1;32m   1374\u001b[0m \u001b[38;5;28mself\u001b[39m\u001b[38;5;241m.\u001b[39mauth_class\u001b[38;5;241m.\u001b[39mreset_secrets()\n",
      "File \u001b[0;32m/opt/conda/lib/python3.12/site-packages/snowflake/connector/connection.py:1704\u001b[0m, in \u001b[0;36mSnowflakeConnection.authenticate_with_retry\u001b[0;34m(self, auth_instance)\u001b[0m\n\u001b[1;32m   1701\u001b[0m \u001b[38;5;28;01mdef\u001b[39;00m \u001b[38;5;21mauthenticate_with_retry\u001b[39m(\u001b[38;5;28mself\u001b[39m, auth_instance) \u001b[38;5;241m-\u001b[39m\u001b[38;5;241m>\u001b[39m \u001b[38;5;28;01mNone\u001b[39;00m:\n\u001b[1;32m   1702\u001b[0m     \u001b[38;5;66;03m# make some changes if needed before real __authenticate\u001b[39;00m\n\u001b[1;32m   1703\u001b[0m     \u001b[38;5;28;01mtry\u001b[39;00m:\n\u001b[0;32m-> 1704\u001b[0m         \u001b[38;5;28;43mself\u001b[39;49m\u001b[38;5;241;43m.\u001b[39;49m\u001b[43m_authenticate\u001b[49m\u001b[43m(\u001b[49m\u001b[43mauth_instance\u001b[49m\u001b[43m)\u001b[49m\n\u001b[1;32m   1705\u001b[0m     \u001b[38;5;28;01mexcept\u001b[39;00m ReauthenticationRequest \u001b[38;5;28;01mas\u001b[39;00m ex:\n\u001b[1;32m   1706\u001b[0m         \u001b[38;5;66;03m# cached id_token expiration error, we have cleaned id_token and try to authenticate again\u001b[39;00m\n\u001b[1;32m   1707\u001b[0m         logger\u001b[38;5;241m.\u001b[39mdebug(\u001b[38;5;124m\"\u001b[39m\u001b[38;5;124mID token expired. Reauthenticating...: \u001b[39m\u001b[38;5;132;01m%s\u001b[39;00m\u001b[38;5;124m\"\u001b[39m, ex)\n",
      "File \u001b[0;32m/opt/conda/lib/python3.12/site-packages/snowflake/connector/connection.py:1736\u001b[0m, in \u001b[0;36mSnowflakeConnection._authenticate\u001b[0;34m(self, auth_instance)\u001b[0m\n\u001b[1;32m   1734\u001b[0m auth_instance\u001b[38;5;241m.\u001b[39m_retry_ctx\u001b[38;5;241m.\u001b[39mset_start_time()\n\u001b[1;32m   1735\u001b[0m \u001b[38;5;28;01mtry\u001b[39;00m:\n\u001b[0;32m-> 1736\u001b[0m     \u001b[43mauth\u001b[49m\u001b[38;5;241;43m.\u001b[39;49m\u001b[43mauthenticate\u001b[49m\u001b[43m(\u001b[49m\n\u001b[1;32m   1737\u001b[0m \u001b[43m        \u001b[49m\u001b[43mauth_instance\u001b[49m\u001b[38;5;241;43m=\u001b[39;49m\u001b[43mauth_instance\u001b[49m\u001b[43m,\u001b[49m\n\u001b[1;32m   1738\u001b[0m \u001b[43m        \u001b[49m\u001b[43maccount\u001b[49m\u001b[38;5;241;43m=\u001b[39;49m\u001b[38;5;28;43mself\u001b[39;49m\u001b[38;5;241;43m.\u001b[39;49m\u001b[43maccount\u001b[49m\u001b[43m,\u001b[49m\n\u001b[1;32m   1739\u001b[0m \u001b[43m        \u001b[49m\u001b[43muser\u001b[49m\u001b[38;5;241;43m=\u001b[39;49m\u001b[38;5;28;43mself\u001b[39;49m\u001b[38;5;241;43m.\u001b[39;49m\u001b[43muser\u001b[49m\u001b[43m,\u001b[49m\n\u001b[1;32m   1740\u001b[0m \u001b[43m        \u001b[49m\u001b[43mdatabase\u001b[49m\u001b[38;5;241;43m=\u001b[39;49m\u001b[38;5;28;43mself\u001b[39;49m\u001b[38;5;241;43m.\u001b[39;49m\u001b[43mdatabase\u001b[49m\u001b[43m,\u001b[49m\n\u001b[1;32m   1741\u001b[0m \u001b[43m        \u001b[49m\u001b[43mschema\u001b[49m\u001b[38;5;241;43m=\u001b[39;49m\u001b[38;5;28;43mself\u001b[39;49m\u001b[38;5;241;43m.\u001b[39;49m\u001b[43mschema\u001b[49m\u001b[43m,\u001b[49m\n\u001b[1;32m   1742\u001b[0m \u001b[43m        \u001b[49m\u001b[43mwarehouse\u001b[49m\u001b[38;5;241;43m=\u001b[39;49m\u001b[38;5;28;43mself\u001b[39;49m\u001b[38;5;241;43m.\u001b[39;49m\u001b[43mwarehouse\u001b[49m\u001b[43m,\u001b[49m\n\u001b[1;32m   1743\u001b[0m \u001b[43m        \u001b[49m\u001b[43mrole\u001b[49m\u001b[38;5;241;43m=\u001b[39;49m\u001b[38;5;28;43mself\u001b[39;49m\u001b[38;5;241;43m.\u001b[39;49m\u001b[43mrole\u001b[49m\u001b[43m,\u001b[49m\n\u001b[1;32m   1744\u001b[0m \u001b[43m        \u001b[49m\u001b[43mpasscode\u001b[49m\u001b[38;5;241;43m=\u001b[39;49m\u001b[38;5;28;43mself\u001b[39;49m\u001b[38;5;241;43m.\u001b[39;49m\u001b[43m_passcode\u001b[49m\u001b[43m,\u001b[49m\n\u001b[1;32m   1745\u001b[0m \u001b[43m        \u001b[49m\u001b[43mpasscode_in_password\u001b[49m\u001b[38;5;241;43m=\u001b[39;49m\u001b[38;5;28;43mself\u001b[39;49m\u001b[38;5;241;43m.\u001b[39;49m\u001b[43m_passcode_in_password\u001b[49m\u001b[43m,\u001b[49m\n\u001b[1;32m   1746\u001b[0m \u001b[43m        \u001b[49m\u001b[43mmfa_callback\u001b[49m\u001b[38;5;241;43m=\u001b[39;49m\u001b[38;5;28;43mself\u001b[39;49m\u001b[38;5;241;43m.\u001b[39;49m\u001b[43m_mfa_callback\u001b[49m\u001b[43m,\u001b[49m\n\u001b[1;32m   1747\u001b[0m \u001b[43m        \u001b[49m\u001b[43mpassword_callback\u001b[49m\u001b[38;5;241;43m=\u001b[39;49m\u001b[38;5;28;43mself\u001b[39;49m\u001b[38;5;241;43m.\u001b[39;49m\u001b[43m_password_callback\u001b[49m\u001b[43m,\u001b[49m\n\u001b[1;32m   1748\u001b[0m \u001b[43m        \u001b[49m\u001b[43msession_parameters\u001b[49m\u001b[38;5;241;43m=\u001b[39;49m\u001b[38;5;28;43mself\u001b[39;49m\u001b[38;5;241;43m.\u001b[39;49m\u001b[43m_session_parameters\u001b[49m\u001b[43m,\u001b[49m\n\u001b[1;32m   1749\u001b[0m \u001b[43m    \u001b[49m\u001b[43m)\u001b[49m\n\u001b[1;32m   1750\u001b[0m \u001b[38;5;28;01mexcept\u001b[39;00m OperationalError \u001b[38;5;28;01mas\u001b[39;00m e:\n\u001b[1;32m   1751\u001b[0m     logger\u001b[38;5;241m.\u001b[39mdebug(\n\u001b[1;32m   1752\u001b[0m         \u001b[38;5;124m\"\u001b[39m\u001b[38;5;124mOperational Error raised at authentication\u001b[39m\u001b[38;5;124m\"\u001b[39m\n\u001b[1;32m   1753\u001b[0m         \u001b[38;5;124mf\u001b[39m\u001b[38;5;124m\"\u001b[39m\u001b[38;5;124mfor authenticator: \u001b[39m\u001b[38;5;132;01m{\u001b[39;00m\u001b[38;5;28mtype\u001b[39m(auth_instance)\u001b[38;5;241m.\u001b[39m\u001b[38;5;18m__name__\u001b[39m\u001b[38;5;132;01m}\u001b[39;00m\u001b[38;5;124m\"\u001b[39m\n\u001b[1;32m   1754\u001b[0m     )\n",
      "File \u001b[0;32m/opt/conda/lib/python3.12/site-packages/snowflake/connector/auth/_auth.py:401\u001b[0m, in \u001b[0;36mAuth.authenticate\u001b[0;34m(self, auth_instance, account, user, database, schema, warehouse, role, passcode, passcode_in_password, mfa_callback, password_callback, session_parameters, timeout)\u001b[0m\n\u001b[1;32m    397\u001b[0m     \u001b[38;5;28;01mif\u001b[39;00m \u001b[38;5;28misinstance\u001b[39m(auth_instance, AuthByUsrPwdMfa):\n\u001b[1;32m    398\u001b[0m         \u001b[38;5;28mself\u001b[39m\u001b[38;5;241m.\u001b[39m_delete_temporary_credential(\n\u001b[1;32m    399\u001b[0m             \u001b[38;5;28mself\u001b[39m\u001b[38;5;241m.\u001b[39m_rest\u001b[38;5;241m.\u001b[39m_host, user, TokenType\u001b[38;5;241m.\u001b[39mMFA_TOKEN\n\u001b[1;32m    400\u001b[0m         )\n\u001b[0;32m--> 401\u001b[0m     \u001b[43mError\u001b[49m\u001b[38;5;241;43m.\u001b[39;49m\u001b[43merrorhandler_wrapper\u001b[49m\u001b[43m(\u001b[49m\n\u001b[1;32m    402\u001b[0m \u001b[43m        \u001b[49m\u001b[38;5;28;43mself\u001b[39;49m\u001b[38;5;241;43m.\u001b[39;49m\u001b[43m_rest\u001b[49m\u001b[38;5;241;43m.\u001b[39;49m\u001b[43m_connection\u001b[49m\u001b[43m,\u001b[49m\n\u001b[1;32m    403\u001b[0m \u001b[43m        \u001b[49m\u001b[38;5;28;43;01mNone\u001b[39;49;00m\u001b[43m,\u001b[49m\n\u001b[1;32m    404\u001b[0m \u001b[43m        \u001b[49m\u001b[43mDatabaseError\u001b[49m\u001b[43m,\u001b[49m\n\u001b[1;32m    405\u001b[0m \u001b[43m        \u001b[49m\u001b[43m{\u001b[49m\n\u001b[1;32m    406\u001b[0m \u001b[43m            \u001b[49m\u001b[38;5;124;43m\"\u001b[39;49m\u001b[38;5;124;43mmsg\u001b[39;49m\u001b[38;5;124;43m\"\u001b[39;49m\u001b[43m:\u001b[49m\u001b[43m \u001b[49m\u001b[43m(\u001b[49m\n\u001b[1;32m    407\u001b[0m \u001b[43m                \u001b[49m\u001b[38;5;124;43m\"\u001b[39;49m\u001b[38;5;124;43mFailed to connect to DB: \u001b[39;49m\u001b[38;5;132;43;01m{host}\u001b[39;49;00m\u001b[38;5;124;43m:\u001b[39;49m\u001b[38;5;132;43;01m{port}\u001b[39;49;00m\u001b[38;5;124;43m. \u001b[39;49m\u001b[38;5;124;43m\"\u001b[39;49m\u001b[43m \u001b[49m\u001b[38;5;124;43m\"\u001b[39;49m\u001b[38;5;132;43;01m{message}\u001b[39;49;00m\u001b[38;5;124;43m\"\u001b[39;49m\n\u001b[1;32m    408\u001b[0m \u001b[43m            \u001b[49m\u001b[43m)\u001b[49m\u001b[38;5;241;43m.\u001b[39;49m\u001b[43mformat\u001b[49m\u001b[43m(\u001b[49m\n\u001b[1;32m    409\u001b[0m \u001b[43m                \u001b[49m\u001b[43mhost\u001b[49m\u001b[38;5;241;43m=\u001b[39;49m\u001b[38;5;28;43mself\u001b[39;49m\u001b[38;5;241;43m.\u001b[39;49m\u001b[43m_rest\u001b[49m\u001b[38;5;241;43m.\u001b[39;49m\u001b[43m_host\u001b[49m\u001b[43m,\u001b[49m\n\u001b[1;32m    410\u001b[0m \u001b[43m                \u001b[49m\u001b[43mport\u001b[49m\u001b[38;5;241;43m=\u001b[39;49m\u001b[38;5;28;43mself\u001b[39;49m\u001b[38;5;241;43m.\u001b[39;49m\u001b[43m_rest\u001b[49m\u001b[38;5;241;43m.\u001b[39;49m\u001b[43m_port\u001b[49m\u001b[43m,\u001b[49m\n\u001b[1;32m    411\u001b[0m \u001b[43m                \u001b[49m\u001b[43mmessage\u001b[49m\u001b[38;5;241;43m=\u001b[39;49m\u001b[43mret\u001b[49m\u001b[43m[\u001b[49m\u001b[38;5;124;43m\"\u001b[39;49m\u001b[38;5;124;43mmessage\u001b[39;49m\u001b[38;5;124;43m\"\u001b[39;49m\u001b[43m]\u001b[49m\u001b[43m,\u001b[49m\n\u001b[1;32m    412\u001b[0m \u001b[43m            \u001b[49m\u001b[43m)\u001b[49m\u001b[43m,\u001b[49m\n\u001b[1;32m    413\u001b[0m \u001b[43m            \u001b[49m\u001b[38;5;124;43m\"\u001b[39;49m\u001b[38;5;124;43merrno\u001b[39;49m\u001b[38;5;124;43m\"\u001b[39;49m\u001b[43m:\u001b[49m\u001b[43m \u001b[49m\u001b[43mER_FAILED_TO_CONNECT_TO_DB\u001b[49m\u001b[43m,\u001b[49m\n\u001b[1;32m    414\u001b[0m \u001b[43m            \u001b[49m\u001b[38;5;124;43m\"\u001b[39;49m\u001b[38;5;124;43msqlstate\u001b[39;49m\u001b[38;5;124;43m\"\u001b[39;49m\u001b[43m:\u001b[49m\u001b[43m \u001b[49m\u001b[43mSQLSTATE_CONNECTION_WAS_NOT_ESTABLISHED\u001b[49m\u001b[43m,\u001b[49m\n\u001b[1;32m    415\u001b[0m \u001b[43m        \u001b[49m\u001b[43m}\u001b[49m\u001b[43m,\u001b[49m\n\u001b[1;32m    416\u001b[0m \u001b[43m    \u001b[49m\u001b[43m)\u001b[49m\n\u001b[1;32m    417\u001b[0m \u001b[38;5;28;01melse\u001b[39;00m:\n\u001b[1;32m    418\u001b[0m     logger\u001b[38;5;241m.\u001b[39mdebug(\n\u001b[1;32m    419\u001b[0m         \u001b[38;5;124m\"\u001b[39m\u001b[38;5;124mtoken = \u001b[39m\u001b[38;5;132;01m%s\u001b[39;00m\u001b[38;5;124m\"\u001b[39m,\n\u001b[1;32m    420\u001b[0m         (\n\u001b[0;32m   (...)\u001b[0m\n\u001b[1;32m    424\u001b[0m         ),\n\u001b[1;32m    425\u001b[0m     )\n",
      "File \u001b[0;32m/opt/conda/lib/python3.12/site-packages/snowflake/connector/errors.py:286\u001b[0m, in \u001b[0;36mError.errorhandler_wrapper\u001b[0;34m(connection, cursor, error_class, error_value)\u001b[0m\n\u001b[1;32m    263\u001b[0m \u001b[38;5;129m@staticmethod\u001b[39m\n\u001b[1;32m    264\u001b[0m \u001b[38;5;28;01mdef\u001b[39;00m \u001b[38;5;21merrorhandler_wrapper\u001b[39m(\n\u001b[1;32m    265\u001b[0m     connection: SnowflakeConnection \u001b[38;5;241m|\u001b[39m \u001b[38;5;28;01mNone\u001b[39;00m,\n\u001b[0;32m   (...)\u001b[0m\n\u001b[1;32m    268\u001b[0m     error_value: \u001b[38;5;28mdict\u001b[39m[\u001b[38;5;28mstr\u001b[39m, Any],\n\u001b[1;32m    269\u001b[0m ) \u001b[38;5;241m-\u001b[39m\u001b[38;5;241m>\u001b[39m \u001b[38;5;28;01mNone\u001b[39;00m:\n\u001b[1;32m    270\u001b[0m \u001b[38;5;250m    \u001b[39m\u001b[38;5;124;03m\"\"\"Error handler wrapper that calls the errorhandler method.\u001b[39;00m\n\u001b[1;32m    271\u001b[0m \n\u001b[1;32m    272\u001b[0m \u001b[38;5;124;03m    Args:\u001b[39;00m\n\u001b[0;32m   (...)\u001b[0m\n\u001b[1;32m    283\u001b[0m \u001b[38;5;124;03m        exception to the first handler in that order.\u001b[39;00m\n\u001b[1;32m    284\u001b[0m \u001b[38;5;124;03m    \"\"\"\u001b[39;00m\n\u001b[0;32m--> 286\u001b[0m     handed_over \u001b[38;5;241m=\u001b[39m \u001b[43mError\u001b[49m\u001b[38;5;241;43m.\u001b[39;49m\u001b[43mhand_to_other_handler\u001b[49m\u001b[43m(\u001b[49m\n\u001b[1;32m    287\u001b[0m \u001b[43m        \u001b[49m\u001b[43mconnection\u001b[49m\u001b[43m,\u001b[49m\n\u001b[1;32m    288\u001b[0m \u001b[43m        \u001b[49m\u001b[43mcursor\u001b[49m\u001b[43m,\u001b[49m\n\u001b[1;32m    289\u001b[0m \u001b[43m        \u001b[49m\u001b[43merror_class\u001b[49m\u001b[43m,\u001b[49m\n\u001b[1;32m    290\u001b[0m \u001b[43m        \u001b[49m\u001b[43merror_value\u001b[49m\u001b[43m,\u001b[49m\n\u001b[1;32m    291\u001b[0m \u001b[43m    \u001b[49m\u001b[43m)\u001b[49m\n\u001b[1;32m    292\u001b[0m     \u001b[38;5;28;01mif\u001b[39;00m \u001b[38;5;129;01mnot\u001b[39;00m handed_over:\n\u001b[1;32m    293\u001b[0m         \u001b[38;5;28;01mraise\u001b[39;00m Error\u001b[38;5;241m.\u001b[39merrorhandler_make_exception(\n\u001b[1;32m    294\u001b[0m             error_class,\n\u001b[1;32m    295\u001b[0m             error_value,\n\u001b[1;32m    296\u001b[0m         )\n",
      "File \u001b[0;32m/opt/conda/lib/python3.12/site-packages/snowflake/connector/errors.py:344\u001b[0m, in \u001b[0;36mError.hand_to_other_handler\u001b[0;34m(connection, cursor, error_class, error_value)\u001b[0m\n\u001b[1;32m    342\u001b[0m     \u001b[38;5;28;01mreturn\u001b[39;00m \u001b[38;5;28;01mTrue\u001b[39;00m\n\u001b[1;32m    343\u001b[0m \u001b[38;5;28;01melif\u001b[39;00m connection \u001b[38;5;129;01mis\u001b[39;00m \u001b[38;5;129;01mnot\u001b[39;00m \u001b[38;5;28;01mNone\u001b[39;00m:\n\u001b[0;32m--> 344\u001b[0m     \u001b[43mconnection\u001b[49m\u001b[38;5;241;43m.\u001b[39;49m\u001b[43merrorhandler\u001b[49m\u001b[43m(\u001b[49m\u001b[43mconnection\u001b[49m\u001b[43m,\u001b[49m\u001b[43m \u001b[49m\u001b[43mcursor\u001b[49m\u001b[43m,\u001b[49m\u001b[43m \u001b[49m\u001b[43merror_class\u001b[49m\u001b[43m,\u001b[49m\u001b[43m \u001b[49m\u001b[43merror_value\u001b[49m\u001b[43m)\u001b[49m\n\u001b[1;32m    345\u001b[0m     \u001b[38;5;28;01mreturn\u001b[39;00m \u001b[38;5;28;01mTrue\u001b[39;00m\n\u001b[1;32m    346\u001b[0m \u001b[38;5;28;01mreturn\u001b[39;00m \u001b[38;5;28;01mFalse\u001b[39;00m\n",
      "File \u001b[0;32m/opt/conda/lib/python3.12/site-packages/snowflake/connector/errors.py:217\u001b[0m, in \u001b[0;36mError.default_errorhandler\u001b[0;34m(connection, cursor, error_class, error_value)\u001b[0m\n\u001b[1;32m    215\u001b[0m errno \u001b[38;5;241m=\u001b[39m error_value\u001b[38;5;241m.\u001b[39mget(\u001b[38;5;124m\"\u001b[39m\u001b[38;5;124merrno\u001b[39m\u001b[38;5;124m\"\u001b[39m)\n\u001b[1;32m    216\u001b[0m done_format_msg \u001b[38;5;241m=\u001b[39m error_value\u001b[38;5;241m.\u001b[39mget(\u001b[38;5;124m\"\u001b[39m\u001b[38;5;124mdone_format_msg\u001b[39m\u001b[38;5;124m\"\u001b[39m)\n\u001b[0;32m--> 217\u001b[0m \u001b[38;5;28;01mraise\u001b[39;00m error_class(\n\u001b[1;32m    218\u001b[0m     msg\u001b[38;5;241m=\u001b[39merror_value\u001b[38;5;241m.\u001b[39mget(\u001b[38;5;124m\"\u001b[39m\u001b[38;5;124mmsg\u001b[39m\u001b[38;5;124m\"\u001b[39m),\n\u001b[1;32m    219\u001b[0m     errno\u001b[38;5;241m=\u001b[39m\u001b[38;5;28;01mNone\u001b[39;00m \u001b[38;5;28;01mif\u001b[39;00m errno \u001b[38;5;129;01mis\u001b[39;00m \u001b[38;5;28;01mNone\u001b[39;00m \u001b[38;5;28;01melse\u001b[39;00m \u001b[38;5;28mint\u001b[39m(errno),\n\u001b[1;32m    220\u001b[0m     sqlstate\u001b[38;5;241m=\u001b[39merror_value\u001b[38;5;241m.\u001b[39mget(\u001b[38;5;124m\"\u001b[39m\u001b[38;5;124msqlstate\u001b[39m\u001b[38;5;124m\"\u001b[39m),\n\u001b[1;32m    221\u001b[0m     sfqid\u001b[38;5;241m=\u001b[39merror_value\u001b[38;5;241m.\u001b[39mget(\u001b[38;5;124m\"\u001b[39m\u001b[38;5;124msfqid\u001b[39m\u001b[38;5;124m\"\u001b[39m),\n\u001b[1;32m    222\u001b[0m     query\u001b[38;5;241m=\u001b[39merror_value\u001b[38;5;241m.\u001b[39mget(\u001b[38;5;124m\"\u001b[39m\u001b[38;5;124mquery\u001b[39m\u001b[38;5;124m\"\u001b[39m),\n\u001b[1;32m    223\u001b[0m     done_format_msg\u001b[38;5;241m=\u001b[39m(\n\u001b[1;32m    224\u001b[0m         \u001b[38;5;28;01mNone\u001b[39;00m \u001b[38;5;28;01mif\u001b[39;00m done_format_msg \u001b[38;5;129;01mis\u001b[39;00m \u001b[38;5;28;01mNone\u001b[39;00m \u001b[38;5;28;01melse\u001b[39;00m \u001b[38;5;28mbool\u001b[39m(done_format_msg)\n\u001b[1;32m    225\u001b[0m     ),\n\u001b[1;32m    226\u001b[0m     connection\u001b[38;5;241m=\u001b[39mconnection,\n\u001b[1;32m    227\u001b[0m     cursor\u001b[38;5;241m=\u001b[39mcursor,\n\u001b[1;32m    228\u001b[0m )\n",
      "\u001b[0;31mDatabaseError\u001b[0m: 250001 (08001): Failed to connect to DB: qbmhuza-bnb86629.snowflakecomputing.com:443. Your user account has been temporarily locked. Try again later or contact your account administrator for assistance. For more information about this error, go to https://community.snowflake.com/s/error-your-user-login-has-been-locked."
     ]
    }
   ],
   "source": [
    "import snowflake.connector\n",
    "\n",
    "conn = snowflake.connector.connect(\n",
    "    user=SNOWFLAKE_USER,\n",
    "    password=SNOWFLAKE_PASSWORD,\n",
    "    account=SNOWFLAKE_ACCOUNT,\n",
    ")"
   ]
  },
  {
   "cell_type": "code",
   "execution_count": null,
   "metadata": {},
   "outputs": [],
   "source": [
    "cs = conn.cursor()"
   ]
  },
  {
   "cell_type": "code",
   "execution_count": null,
   "metadata": {},
   "outputs": [
    {
     "data": {
      "text/plain": [
       "<snowflake.connector.cursor.SnowflakeCursor at 0xffff52b8ffe0>"
      ]
     },
     "execution_count": 4,
     "metadata": {},
     "output_type": "execute_result"
    }
   ],
   "source": [
    "cs.execute(\"CREATE WAREHOUSE IF NOT EXISTS my_first_warehouse\")"
   ]
  },
  {
   "cell_type": "code",
   "execution_count": null,
   "metadata": {},
   "outputs": [
    {
     "data": {
      "text/plain": [
       "<snowflake.connector.cursor.SnowflakeCursor at 0xffff52b8ffe0>"
      ]
     },
     "execution_count": 5,
     "metadata": {},
     "output_type": "execute_result"
    }
   ],
   "source": [
    "cs.execute(\"CREATE DATABASE IF NOT EXISTS testdb\")"
   ]
  },
  {
   "cell_type": "code",
   "execution_count": null,
   "metadata": {},
   "outputs": [
    {
     "name": "stdout",
     "output_type": "stream",
     "text": [
      "Rows: 13\n",
      "\n",
      "Sample rows:\n",
      "(1, 'A Datum Corporation', '(847) 555-0100', 'http://www.adatum.com', None, None)\n",
      "(2, 'Contoso, Ltd.', '(360) 555-0100', 'http://www.contoso.com', None, None)\n",
      "(3, 'Consolidated Messenger', '(415) 555-0100', 'http://www.consolidatedmessenger.com', None, None)\n",
      "(4, 'Fabrikam, Inc.', '(203) 555-0104', 'http://www.fabrikam.com', None, None)\n",
      "(5, 'Graphic Design Institute', '(406) 555-0105', 'http://www.graphicdesigninstitute.com', None, None)\n",
      "(6, 'Humongous Insurance', '(423) 555-0105', 'http://www.humongousinsurance.com', None, None)\n",
      "(7, 'Litware, Inc.', '(209) 555-0108', 'http://www.litwareinc.com', None, None)\n",
      "(8, 'Lucerne Publishing', '(423) 555-0103', 'http://www.lucernepublishing.com', None, None)\n",
      "(9, 'Nod Publishers', '(252) 555-0100', 'http://www.nodpublishers.com', None, None)\n",
      "(10, 'Northwind Electric Cars', '(201) 555-0105', 'http://www.northwindelectriccars.com', None, None)\n",
      "\n",
      "Schema:\n",
      "SUPPLIERID NUMBER(38,0)\n",
      "SUPPLIERNAME VARCHAR(16777216)\n",
      "SUPPLIERCATEGORYID NUMBER(38,0)\n",
      "PRIMARYCONTACTPERSONID NUMBER(38,0)\n",
      "ALTERNATECONTACTPERSONID NUMBER(38,0)\n",
      "DELIVERYMETHODID NUMBER(38,0)\n",
      "POSTALCITYID NUMBER(38,0)\n",
      "SUPPLIERREFERENCE VARCHAR(16777216)\n",
      "BANKACCOUNTNAME VARCHAR(16777216)\n",
      "BANKACCOUNTBRANCH VARCHAR(16777216)\n",
      "BANKACCOUNTCODE NUMBER(38,0)\n",
      "BANKACCOUNTNUMBER NUMBER(38,0)\n",
      "BANKINTERNATIONALCODE NUMBER(38,0)\n",
      "PAYMENTDAYS NUMBER(38,0)\n",
      "INTERNALCOMMENTS VARCHAR(16777216)\n",
      "PHONENUMBER VARCHAR(16777216)\n",
      "FAXNUMBER VARCHAR(16777216)\n",
      "WEBSITEURL VARCHAR(16777216)\n",
      "DELIVERYADDRESSLINE1 VARCHAR(16777216)\n",
      "DELIVERYADDRESSLINE2 VARCHAR(16777216)\n",
      "DELIVERYPOSTALCODE NUMBER(38,0)\n",
      "DELIVERYLOCATION VARCHAR(16777216)\n",
      "POSTALADDRESSLINE1 VARCHAR(16777216)\n",
      "POSTALADDRESSLINE2 VARCHAR(16777216)\n",
      "POSTALPOSTALCODE NUMBER(38,0)\n",
      "LASTEDITEDBY NUMBER(38,0)\n",
      "VALIDFROM VARCHAR(16777216)\n",
      "VALIDTO VARCHAR(16777216)\n"
     ]
    }
   ],
   "source": [
    "from pathlib import Path\n",
    "import re\n",
    "\n",
    "# ---- 0) connect  ----\n",
    "conn = snowflake.connector.connect(\n",
    "    host=\"qbmhuza-bnb86629.snowflakecomputing.com\",   \n",
    "    account=\"qbmhuza-bnb86629\",                        \n",
    "    user=\"second2\",\n",
    "    password=\"gyczeg6kaHqywownor\",\n",
    "    warehouse=\"COMPUTE_WH\",                           \n",
    ")\n",
    "cs = conn.cursor()\n",
    "\n",
    "# make sure the warehouse will wake itself\n",
    "cs.execute(\"ALTER WAREHOUSE COMPUTE_WH SET AUTO_SUSPEND=60 AUTO_RESUME=TRUE\")\n",
    "\n",
    "# ---- 1) set DB/Schema (use your existing TESTDB) ----\n",
    "DB, SCHEMA = \"TESTDB\", \"PUBLIC\"\n",
    "cs.execute(f\"CREATE DATABASE IF NOT EXISTS {DB}\")\n",
    "cs.execute(f\"CREATE SCHEMA   IF NOT EXISTS {DB}.{SCHEMA}\")\n",
    "cs.execute(f\"USE DATABASE {DB}\")\n",
    "cs.execute(f\"USE SCHEMA {SCHEMA}\")\n",
    "\n",
    "# ---- 2) read and run your .pgsql file from the repo ----\n",
    "sql_path = Path(\"/home/jovyan/Desktop/MSBA/SQL & ETL /MGTA_464_Snowflake_Project/Data/supplier_case.pgsql\")     \n",
    "assert sql_path.exists(), f\"Not found: {sql_path.resolve()}\"\n",
    "txt = sql_path.read_text(encoding=\"utf-8\")\n",
    "\n",
    "# tiny Postgres -> Snowflake cleanups\n",
    "txt = \"\\n\".join(l for l in txt.splitlines() if not l.strip().startswith(\"\\\\\"))            # drop psql meta commands\n",
    "txt = re.sub(r\"\\bNUMERIC\\b\", \"NUMBER\", txt, flags=re.I)                                   # NUMERIC -> NUMBER (safe)\n",
    "txt = re.sub(r\"\\bsupplier_case\\b\", f\"{DB}.{SCHEMA}.SUPPLIER_CASE\", txt, flags=re.I)       # fully-qualify table\n",
    "\n",
    "# split on semicolons and execute\n",
    "stmts = [s.strip() for s in re.split(r\";\\s*(?=\\n|$)\", txt) if s.strip()]\n",
    "for s in stmts:\n",
    "    cs.execute(s)\n",
    "\n",
    "# ---- 3) visualize (still only cs.execute) ----\n",
    "print(\"Rows:\", cs.execute(f\"SELECT COUNT(*) FROM {DB}.{SCHEMA}.SUPPLIER_CASE\").fetchone()[0])\n",
    "\n",
    "print(\"\\nSample rows:\")\n",
    "for r in cs.execute(f\"\"\"\n",
    "    SELECT SupplierID, SupplierName, PhoneNumber, WebsiteURL,\n",
    "           TRY_TO_DATE(ValidFrom) AS ValidFrom, TRY_TO_DATE(ValidTo) AS ValidTo\n",
    "    FROM {DB}.{SCHEMA}.SUPPLIER_CASE\n",
    "    ORDER BY SupplierID\n",
    "    LIMIT 10\n",
    "\"\"\").fetchall():\n",
    "    print(r)\n",
    "\n",
    "print(\"\\nSchema:\")\n",
    "for r in cs.execute(f\"DESCRIBE TABLE {DB}.{SCHEMA}.SUPPLIER_CASE\").fetchall():\n",
    "    print(r[0], r[1])\n"
   ]
  },
  {
   "cell_type": "code",
   "execution_count": null,
   "metadata": {},
   "outputs": [
    {
     "data": {
      "text/plain": [
       "<snowflake.connector.cursor.SnowflakeCursor at 0xffff52a7d460>"
      ]
     },
     "execution_count": 13,
     "metadata": {},
     "output_type": "execute_result"
    }
   ],
   "source": [
    "cs.execute(\"USE DATABASE TESTDB\")\n",
    "cs.execute(\"USE SCHEMA PUBLIC\")\n",
    "\n",
    "cs.execute(\"\"\"\n",
    "CREATE OR REPLACE TABLE TESTDB.PUBLIC.SUPPLIER_CASE_CLEAN AS\n",
    "SELECT\n",
    "  CAST(SUPPLIERID               AS INT)        AS SUPPLIERID,\n",
    "  SUPPLIERNAME                                   AS SUPPLIERNAME,\n",
    "  CAST(SUPPLIERCATEGORYID       AS INT)        AS SUPPLIERCATEGORYID,\n",
    "  CAST(PRIMARYCONTACTPERSONID   AS INT)        AS PRIMARYCONTACTPERSONID,\n",
    "  CAST(ALTERNATECONTACTPERSONID AS INT)        AS ALTERNATECONTACTPERSONID,\n",
    "  CAST(DELIVERYMETHODID         AS INT)        AS DELIVERYMETHODID,\n",
    "  CAST(POSTALCITYID             AS INT)        AS POSTALCITYID,\n",
    "  SUPPLIERREFERENCE                              AS SUPPLIERREFERENCE,\n",
    "  PHONENUMBER                                   AS PHONENUMBER,\n",
    "  WEBSITEURL                                    AS WEBSITEURL,\n",
    "  DELIVERYADDRESSLINE1                           AS DELIVERYADDRESSLINE1,\n",
    "  CAST(DELIVERYPOSTALCODE       AS INT)        AS DELIVERYPOSTALCODE,\n",
    "  POSTALADDRESSLINE1                             AS POSTALADDRESSLINE1,\n",
    "  CAST(POSTALPOSTALCODE         AS INT)        AS POSTALPOSTALCODE,\n",
    "  CAST(LASTEDITEDBY             AS INT)        AS LASTEDITEDBY,\n",
    "  TRY_TO_DATE(VALIDFROM)                        AS VALIDFROM,\n",
    "  TRY_TO_DATE(VALIDTO)                          AS VALIDTO\n",
    "FROM TESTDB.PUBLIC.SUPPLIER_CASE;\n",
    "\"\"\")\n"
   ]
  },
  {
   "cell_type": "code",
   "execution_count": null,
   "metadata": {},
   "outputs": [
    {
     "name": "stdout",
     "output_type": "stream",
     "text": [
      "13\n",
      "(1, 'A Datum Corporation', '(847) 555-0100', 'http://www.adatum.com', None, None)\n",
      "(2, 'Contoso, Ltd.', '(360) 555-0100', 'http://www.contoso.com', None, None)\n",
      "(3, 'Consolidated Messenger', '(415) 555-0100', 'http://www.consolidatedmessenger.com', None, None)\n",
      "(4, 'Fabrikam, Inc.', '(203) 555-0104', 'http://www.fabrikam.com', None, None)\n",
      "(5, 'Graphic Design Institute', '(406) 555-0105', 'http://www.graphicdesigninstitute.com', None, None)\n",
      "(6, 'Humongous Insurance', '(423) 555-0105', 'http://www.humongousinsurance.com', None, None)\n",
      "(7, 'Litware, Inc.', '(209) 555-0108', 'http://www.litwareinc.com', None, None)\n",
      "(8, 'Lucerne Publishing', '(423) 555-0103', 'http://www.lucernepublishing.com', None, None)\n",
      "(9, 'Nod Publishers', '(252) 555-0100', 'http://www.nodpublishers.com', None, None)\n",
      "(10, 'Northwind Electric Cars', '(201) 555-0105', 'http://www.northwindelectriccars.com', None, None)\n"
     ]
    }
   ],
   "source": [
    "print(cs.execute(\"SELECT COUNT(*) FROM TESTDB.PUBLIC.SUPPLIER_CASE_CLEAN\").fetchone()[0])\n",
    "for r in cs.execute(\"\"\"\n",
    "  SELECT SUPPLIERID, SUPPLIERNAME, PHONENUMBER, WEBSITEURL, VALIDFROM, VALIDTO\n",
    "  FROM TESTDB.PUBLIC.SUPPLIER_CASE_CLEAN\n",
    "  ORDER BY SUPPLIERID\n",
    "  LIMIT 10\n",
    "\"\"\").fetchall():\n",
    "    print(r)\n"
   ]
  },
  {
   "cell_type": "code",
   "execution_count": null,
   "metadata": {},
   "outputs": [],
   "source": [
    "# --- Add this to ETL_Snowflake.py (after your existing connection code) ---\n",
    "\n",
    "import snowflake.connector\n",
    "\n",
    "def use_first_existing_db(cs, candidate_names):\n",
    "    \"\"\"\n",
    "    Try each candidate database name; return the first one that exists.\n",
    "    Falls back to SHOW DATABASES LIKE 'WEATHER%ENVIRONMENT%' if none match exactly.\n",
    "    \"\"\"\n",
    "    # Try exact names first\n",
    "    for db in candidate_names:\n",
    "        cs.execute(f\"SHOW DATABASES LIKE '{db}'\")\n",
    "        if cs.fetchone():\n",
    "            return db\n",
    "\n",
    "    # Broad match as a fallback (handles custom naming)\n",
    "    cs.execute(\"SHOW DATABASES LIKE 'WEATHER%ENVIRONMENT%'\")\n",
    "    row = cs.fetchone()\n",
    "    if row:\n",
    "        # SHOW DATABASES returns tuples; the 2nd field is the database NAME\n",
    "        # Typical order: created_on, name, is_default, ...\n",
    "        return row[1]\n",
    "\n",
    "    raise RuntimeError(\n",
    "        \"Could not find a WEATHER...ENVIRONMENT database. \"\n",
    "        \"Verify the Snowflake Marketplace subscription/name in the web UI.\"\n",
    "    )\n",
    "\n",
    "def print_table_sample(cs, fully_qualified_table, sample_rows=5):\n",
    "    \"\"\"\n",
    "    Print column names, a small sample, and total row count for the given table.\n",
    "    \"\"\"\n",
    "    print(f\"\\n=== {fully_qualified_table} ===\")\n",
    "\n",
    "    # Sample rows\n",
    "    cs.execute(f\"SELECT * FROM {fully_qualified_table} LIMIT {sample_rows}\")\n",
    "    rows = cs.fetchall()\n",
    "    col_names = [desc[0] for desc in cs.description]\n",
    "    print(\"Columns:\", \", \".join(col_names))\n",
    "    for i, r in enumerate(rows, 1):\n",
    "        print(f\"{i:>2}: {r}\")\n",
    "\n",
    "    # Row count (fast metadata-style count is not available; run COUNT(*))\n",
    "    cs.execute(f\"SELECT COUNT(*) FROM {fully_qualified_table}\")\n",
    "    total = cs.fetchone()[0]\n",
    "    print(f\"Total rows: {total}\")\n",
    "\n",
    "def print_cybersyn_weather_tables(conn, warehouse=\"MY_FIRST_WAREHOUSE\"):\n",
    "    \"\"\"\n",
    "    Uses only the Snowflake Python connector to:\n",
    "    - set the warehouse,\n",
    "    - locate the Marketplace database,\n",
    "    - switch to CYBERSYN schema,\n",
    "    - and print samples + counts from the two NOAA tables.\n",
    "    \"\"\"\n",
    "    with conn.cursor() as cs:\n",
    "        # Ensure a warehouse is set (you created MY_FIRST_WAREHOUSE earlier in your file)\n",
    "        cs.execute(f\"USE WAREHOUSE {warehouse}\")\n",
    "\n",
    "        # Part 2, step 7 database names: assignment shows WEATHER__ENVIRONMENT (double underscore),\n",
    "        # but some accounts show WEATHER_ENVIRONMENT (single underscore).\n",
    "        candidate_dbs = [\"WEATHER__ENVIRONMENT\", \"WEATHER_ENVIRONMENT\"]\n",
    "        db_name = use_first_existing_db(cs, candidate_dbs)\n",
    "        cs.execute(f\"USE DATABASE {db_name}\")\n",
    "\n",
    "        # Schema from the brief is CYBERSYN\n",
    "        cs.execute(\"USE SCHEMA CYBERSYN\")\n",
    "\n",
    "        # Fully qualified table names (no quotes needed since identifiers are simple/upper)\n",
    "        tables = [\n",
    "            \"NOAA_WEATHER_METRICS_TIMESERIES\",\n",
    "            \"NOAA_WEATHER_STATION_INDEX\",\n",
    "        ]\n",
    "        for t in tables:\n",
    "            fqtn = f\"{db_name}.CYBERSYN.{t}\"\n",
    "            print_table_sample(cs, fqtn, sample_rows=5)\n",
    "\n",
    "# --- Run it ---\n",
    "if __name__ == \"__main__\":\n",
    "    # Reuse your existing `conn` from above in ETL_Snowflake.py\n",
    "    # Example assumes you already did:\n",
    "    # conn = snowflake.connector.connect(user=..., password=..., account=...)\n",
    "    try:\n",
    "        print_cybersyn_weather_tables(conn, warehouse=\"MY_FIRST_WAREHOUSE\")\n",
    "    finally:\n",
    "        try:\n",
    "            conn.close()\n",
    "        except Exception:\n",
    "            pass\n"
   ]
  },
  {
   "cell_type": "code",
   "execution_count": null,
   "metadata": {},
   "outputs": [],
   "source": [
    "## Creating the PO_Table with Datatypes \n",
    "cs.execute(\n",
    "\"CREATE OR REPLACE TABLE PO_Data(\"\n",
    "\"purchaseorderid NUMBER(3,0), \"\n",
    "\"supplierid NUMBER(1,0), \"\n",
    "\"orderdate DATE, \"\n",
    "\"deliverymethodid NUMBER(1,0), \"\n",
    "\"contactpersonid NUMBER(1,0), \"\n",
    "\"expecteddeliverydate DATE, \"\n",
    "\"supplierreference VARCHAR, \"\n",
    "\"isorderfinalized NUMBER(1,0), \"\n",
    "\"comments VARCHAR, \"\n",
    "\"internalcomments VARCHAR, \"\n",
    "\"lasteditedby NUMBER(2,0), \"\n",
    "\"lasteditedwhen TIMESTAMP_NTZ, \"\n",
    "\"purchaseorderlineid NUMBER(4,0), \"\n",
    "\"stockitemid NUMBER(3,0), \"\n",
    "\"orderedouters NUMBER(3,0), \"\n",
    "\"description VARCHAR, \"\n",
    "\"receivedouters NUMBER(3,0), \"\n",
    "\"packagetypeid NUMBER(1,0), \"\n",
    "\"expectedunitpriceperouter NUMBER(4,1), \"\n",
    "\"lastreceiptdate DATE, \"\n",
    "\"isorderlinefinalized NUMBER(1,0), \"\n",
    "\"right_lasteditedby NUMBER(2,0), \"\n",
    "\"right_lasteditedwhen TIMESTAMP_NTZ\"\n",
    "\")\")\n",
    "\n",
    "\n",
    "import os, glob\n",
    "\n",
    "# Stage + file format\n",
    "cs.execute(\"CREATE OR REPLACE STAGE po_data_stage\")\n",
    "cs.execute(\"\"\"\n",
    "CREATE OR REPLACE FILE FORMAT po_csv_ff\n",
    "  TYPE = CSV\n",
    "  FIELD_OPTIONALLY_ENCLOSED_BY = '\"'\n",
    "  SKIP_HEADER = 1\n",
    "\"\"\")\n",
    "\n",
    "local_dir = \"/mnt/c/Users/digsc/Downloads/Data-1/Data/Monthly PO Data\"\n",
    "pattern = os.path.join(local_dir, \"*.csv\")\n",
    "\n",
    "files = glob.glob(pattern)\n",
    "print(\"Matched CSVs:\", len(files))\n",
    "if not files:\n",
    "    raise SystemExit(f\"No CSVs matched at: {pattern}\")\n",
    "\n",
    "for filepath in files:\n",
    "    base = os.path.basename(filepath)\n",
    "    if \":\" in base:   # skip ADS like ':Zone.Identifier'\n",
    "        continue\n",
    "    abs_path = os.path.abspath(filepath).replace(\"\\\\\", \"/\")  # ensure forward slashes\n",
    "    file_uri = \"file:///\" + abs_path.lstrip(\"/\")             # <-- exactly 3 slashes, no URL-encoding\n",
    "    print(\"PUT ->\", file_uri)\n",
    "    cs.execute(\n",
    "        f\"PUT '{file_uri}' @po_data_stage AUTO_COMPRESS=TRUE OVERWRITE=TRUE\"\n",
    "    )\n",
    "\n",
    "# sanity check what's in the stage\n",
    "cs.execute(\"LIST @po_data_stage\")\n",
    "print(\"Staged objects (top 10):\", cs.fetchall()[:10])\n",
    "\n",
    "# load into the table\n",
    "cs.execute(\"\"\"\n",
    "COPY INTO PO_Data\n",
    "  FROM @po_data_stage\n",
    "  FILE_FORMAT = (FORMAT_NAME = po_csv_ff)\n",
    "  ON_ERROR = ABORT_STATEMENT\n",
    "\"\"\")\n",
    "\n",
    "cs.execute(\"SELECT COUNT(*) FROM PO_Data\")\n",
    "print(\"Row count:\", cs.fetchone())\n"
   ]
  }
 ],
 "metadata": {
  "kernelspec": {
   "display_name": "base",
   "language": "python",
   "name": "python3"
  },
  "language_info": {
   "codemirror_mode": {
    "name": "ipython",
    "version": 3
   },
   "file_extension": ".py",
   "mimetype": "text/x-python",
   "name": "python",
   "nbconvert_exporter": "python",
   "pygments_lexer": "ipython3",
   "version": "3.12.7"
  }
 },
 "nbformat": 4,
 "nbformat_minor": 2
}
